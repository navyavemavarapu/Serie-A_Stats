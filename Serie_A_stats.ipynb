{
  "nbformat": 4,
  "nbformat_minor": 0,
  "metadata": {
    "colab": {
      "name": "Serie A_stats.ipynb",
      "provenance": [],
      "collapsed_sections": [],
      "authorship_tag": "ABX9TyOdty+nCrHM8K0rc81FVrNI",
      "include_colab_link": true
    },
    "kernelspec": {
      "name": "python3",
      "display_name": "Python 3"
    },
    "language_info": {
      "name": "python"
    }
  },
  "cells": [
    {
      "cell_type": "markdown",
      "metadata": {
        "id": "view-in-github",
        "colab_type": "text"
      },
      "source": [
        "<a href=\"https://colab.research.google.com/github/navyavemavarapu/Serie-A_Stats/blob/main/Serie_A_stats.ipynb\" target=\"_parent\"><img src=\"https://colab.research.google.com/assets/colab-badge.svg\" alt=\"Open In Colab\"/></a>"
      ]
    },
    {
      "cell_type": "code",
      "execution_count": 1,
      "metadata": {
        "id": "N5duBCiv7jTq"
      },
      "outputs": [],
      "source": [
        "import pandas as pd\n",
        "import numpy as np\n",
        "import matplotlib.pyplot as plt\n",
        "import seaborn as sns"
      ]
    },
    {
      "cell_type": "markdown",
      "source": [
        "# Loading data"
      ],
      "metadata": {
        "id": "NQhwcouH68EO"
      }
    },
    {
      "cell_type": "markdown",
      "source": [
        "Here i am going to build a linear regression model to predict the final rank of the squad by analysing all the features.                                   \n",
        "Data link(2021-2022 Serie A Stats) - https://fbref.com/en/comps/11/Serie-A-Stats"
      ],
      "metadata": {
        "id": "-HdrycJc8sMj"
      }
    },
    {
      "cell_type": "code",
      "source": [
        "df=pd.read_excel(\"/content/SerieA_data.xlsx\")"
      ],
      "metadata": {
        "id": "d9GiChsfDojk"
      },
      "execution_count": 2,
      "outputs": []
    },
    {
      "cell_type": "code",
      "source": [
        "df.head()"
      ],
      "metadata": {
        "colab": {
          "base_uri": "https://localhost:8080/",
          "height": 337
        },
        "id": "5DEvMDjAGG8x",
        "outputId": "8072204b-ca0a-40db-9938-72388c98fe13"
      },
      "execution_count": 3,
      "outputs": [
        {
          "output_type": "execute_result",
          "data": {
            "text/plain": [
              "   Rk      Squad  MP   W   D   L  GF  GA  GD  Pts  Pts/MP    xG   xGA   xGD  \\\n",
              "0   1      Milan  38  26   8   4  69  31  38   86    2.26  63.1  34.8  28.3   \n",
              "1   2      Inter  38  25   9   4  84  32  52   84    2.21  81.4  39.2  42.2   \n",
              "2   3     Napoli  38  24   7   7  74  31  43   79    2.08  59.4  31.9  27.6   \n",
              "3   4   Juventus  38  20  10   8  57  37  20   70    1.84  51.5  38.0  13.4   \n",
              "4   5      Lazio  38  18  10  10  77  58  19   64    1.68  55.8  48.3   7.6   \n",
              "\n",
              "   xGD/90  Attendance                   Top Team Scorer         Goalkeeper  \\\n",
              "0    0.74       44015  Olivier Giroud, Rafael Leão - 11       Mike Maignan   \n",
              "1    1.11       44473             Lautaro Martínez - 21   Samir Handanović   \n",
              "2    0.73       28119               Victor Osimhen - 14       David Ospina   \n",
              "3    0.35       22621                 Paulo Dybala - 10  Wojciech Szczęsny   \n",
              "4    0.20       23263                Ciro Immobile - 27   Thomas Strakosha   \n",
              "\n",
              "                                  Notes  \n",
              "0  → Champions League via league finish  \n",
              "1  → Champions League via league finish  \n",
              "2  → Champions League via league finish  \n",
              "3  → Champions League via league finish  \n",
              "4     → Europa League via league finish  "
            ],
            "text/html": [
              "\n",
              "  <div id=\"df-522621c2-cade-4df9-b554-3060140af12f\">\n",
              "    <div class=\"colab-df-container\">\n",
              "      <div>\n",
              "<style scoped>\n",
              "    .dataframe tbody tr th:only-of-type {\n",
              "        vertical-align: middle;\n",
              "    }\n",
              "\n",
              "    .dataframe tbody tr th {\n",
              "        vertical-align: top;\n",
              "    }\n",
              "\n",
              "    .dataframe thead th {\n",
              "        text-align: right;\n",
              "    }\n",
              "</style>\n",
              "<table border=\"1\" class=\"dataframe\">\n",
              "  <thead>\n",
              "    <tr style=\"text-align: right;\">\n",
              "      <th></th>\n",
              "      <th>Rk</th>\n",
              "      <th>Squad</th>\n",
              "      <th>MP</th>\n",
              "      <th>W</th>\n",
              "      <th>D</th>\n",
              "      <th>L</th>\n",
              "      <th>GF</th>\n",
              "      <th>GA</th>\n",
              "      <th>GD</th>\n",
              "      <th>Pts</th>\n",
              "      <th>Pts/MP</th>\n",
              "      <th>xG</th>\n",
              "      <th>xGA</th>\n",
              "      <th>xGD</th>\n",
              "      <th>xGD/90</th>\n",
              "      <th>Attendance</th>\n",
              "      <th>Top Team Scorer</th>\n",
              "      <th>Goalkeeper</th>\n",
              "      <th>Notes</th>\n",
              "    </tr>\n",
              "  </thead>\n",
              "  <tbody>\n",
              "    <tr>\n",
              "      <th>0</th>\n",
              "      <td>1</td>\n",
              "      <td>Milan</td>\n",
              "      <td>38</td>\n",
              "      <td>26</td>\n",
              "      <td>8</td>\n",
              "      <td>4</td>\n",
              "      <td>69</td>\n",
              "      <td>31</td>\n",
              "      <td>38</td>\n",
              "      <td>86</td>\n",
              "      <td>2.26</td>\n",
              "      <td>63.1</td>\n",
              "      <td>34.8</td>\n",
              "      <td>28.3</td>\n",
              "      <td>0.74</td>\n",
              "      <td>44015</td>\n",
              "      <td>Olivier Giroud, Rafael Leão - 11</td>\n",
              "      <td>Mike Maignan</td>\n",
              "      <td>→ Champions League via league finish</td>\n",
              "    </tr>\n",
              "    <tr>\n",
              "      <th>1</th>\n",
              "      <td>2</td>\n",
              "      <td>Inter</td>\n",
              "      <td>38</td>\n",
              "      <td>25</td>\n",
              "      <td>9</td>\n",
              "      <td>4</td>\n",
              "      <td>84</td>\n",
              "      <td>32</td>\n",
              "      <td>52</td>\n",
              "      <td>84</td>\n",
              "      <td>2.21</td>\n",
              "      <td>81.4</td>\n",
              "      <td>39.2</td>\n",
              "      <td>42.2</td>\n",
              "      <td>1.11</td>\n",
              "      <td>44473</td>\n",
              "      <td>Lautaro Martínez - 21</td>\n",
              "      <td>Samir Handanović</td>\n",
              "      <td>→ Champions League via league finish</td>\n",
              "    </tr>\n",
              "    <tr>\n",
              "      <th>2</th>\n",
              "      <td>3</td>\n",
              "      <td>Napoli</td>\n",
              "      <td>38</td>\n",
              "      <td>24</td>\n",
              "      <td>7</td>\n",
              "      <td>7</td>\n",
              "      <td>74</td>\n",
              "      <td>31</td>\n",
              "      <td>43</td>\n",
              "      <td>79</td>\n",
              "      <td>2.08</td>\n",
              "      <td>59.4</td>\n",
              "      <td>31.9</td>\n",
              "      <td>27.6</td>\n",
              "      <td>0.73</td>\n",
              "      <td>28119</td>\n",
              "      <td>Victor Osimhen - 14</td>\n",
              "      <td>David Ospina</td>\n",
              "      <td>→ Champions League via league finish</td>\n",
              "    </tr>\n",
              "    <tr>\n",
              "      <th>3</th>\n",
              "      <td>4</td>\n",
              "      <td>Juventus</td>\n",
              "      <td>38</td>\n",
              "      <td>20</td>\n",
              "      <td>10</td>\n",
              "      <td>8</td>\n",
              "      <td>57</td>\n",
              "      <td>37</td>\n",
              "      <td>20</td>\n",
              "      <td>70</td>\n",
              "      <td>1.84</td>\n",
              "      <td>51.5</td>\n",
              "      <td>38.0</td>\n",
              "      <td>13.4</td>\n",
              "      <td>0.35</td>\n",
              "      <td>22621</td>\n",
              "      <td>Paulo Dybala - 10</td>\n",
              "      <td>Wojciech Szczęsny</td>\n",
              "      <td>→ Champions League via league finish</td>\n",
              "    </tr>\n",
              "    <tr>\n",
              "      <th>4</th>\n",
              "      <td>5</td>\n",
              "      <td>Lazio</td>\n",
              "      <td>38</td>\n",
              "      <td>18</td>\n",
              "      <td>10</td>\n",
              "      <td>10</td>\n",
              "      <td>77</td>\n",
              "      <td>58</td>\n",
              "      <td>19</td>\n",
              "      <td>64</td>\n",
              "      <td>1.68</td>\n",
              "      <td>55.8</td>\n",
              "      <td>48.3</td>\n",
              "      <td>7.6</td>\n",
              "      <td>0.20</td>\n",
              "      <td>23263</td>\n",
              "      <td>Ciro Immobile - 27</td>\n",
              "      <td>Thomas Strakosha</td>\n",
              "      <td>→ Europa League via league finish</td>\n",
              "    </tr>\n",
              "  </tbody>\n",
              "</table>\n",
              "</div>\n",
              "      <button class=\"colab-df-convert\" onclick=\"convertToInteractive('df-522621c2-cade-4df9-b554-3060140af12f')\"\n",
              "              title=\"Convert this dataframe to an interactive table.\"\n",
              "              style=\"display:none;\">\n",
              "        \n",
              "  <svg xmlns=\"http://www.w3.org/2000/svg\" height=\"24px\"viewBox=\"0 0 24 24\"\n",
              "       width=\"24px\">\n",
              "    <path d=\"M0 0h24v24H0V0z\" fill=\"none\"/>\n",
              "    <path d=\"M18.56 5.44l.94 2.06.94-2.06 2.06-.94-2.06-.94-.94-2.06-.94 2.06-2.06.94zm-11 1L8.5 8.5l.94-2.06 2.06-.94-2.06-.94L8.5 2.5l-.94 2.06-2.06.94zm10 10l.94 2.06.94-2.06 2.06-.94-2.06-.94-.94-2.06-.94 2.06-2.06.94z\"/><path d=\"M17.41 7.96l-1.37-1.37c-.4-.4-.92-.59-1.43-.59-.52 0-1.04.2-1.43.59L10.3 9.45l-7.72 7.72c-.78.78-.78 2.05 0 2.83L4 21.41c.39.39.9.59 1.41.59.51 0 1.02-.2 1.41-.59l7.78-7.78 2.81-2.81c.8-.78.8-2.07 0-2.86zM5.41 20L4 18.59l7.72-7.72 1.47 1.35L5.41 20z\"/>\n",
              "  </svg>\n",
              "      </button>\n",
              "      \n",
              "  <style>\n",
              "    .colab-df-container {\n",
              "      display:flex;\n",
              "      flex-wrap:wrap;\n",
              "      gap: 12px;\n",
              "    }\n",
              "\n",
              "    .colab-df-convert {\n",
              "      background-color: #E8F0FE;\n",
              "      border: none;\n",
              "      border-radius: 50%;\n",
              "      cursor: pointer;\n",
              "      display: none;\n",
              "      fill: #1967D2;\n",
              "      height: 32px;\n",
              "      padding: 0 0 0 0;\n",
              "      width: 32px;\n",
              "    }\n",
              "\n",
              "    .colab-df-convert:hover {\n",
              "      background-color: #E2EBFA;\n",
              "      box-shadow: 0px 1px 2px rgba(60, 64, 67, 0.3), 0px 1px 3px 1px rgba(60, 64, 67, 0.15);\n",
              "      fill: #174EA6;\n",
              "    }\n",
              "\n",
              "    [theme=dark] .colab-df-convert {\n",
              "      background-color: #3B4455;\n",
              "      fill: #D2E3FC;\n",
              "    }\n",
              "\n",
              "    [theme=dark] .colab-df-convert:hover {\n",
              "      background-color: #434B5C;\n",
              "      box-shadow: 0px 1px 3px 1px rgba(0, 0, 0, 0.15);\n",
              "      filter: drop-shadow(0px 1px 2px rgba(0, 0, 0, 0.3));\n",
              "      fill: #FFFFFF;\n",
              "    }\n",
              "  </style>\n",
              "\n",
              "      <script>\n",
              "        const buttonEl =\n",
              "          document.querySelector('#df-522621c2-cade-4df9-b554-3060140af12f button.colab-df-convert');\n",
              "        buttonEl.style.display =\n",
              "          google.colab.kernel.accessAllowed ? 'block' : 'none';\n",
              "\n",
              "        async function convertToInteractive(key) {\n",
              "          const element = document.querySelector('#df-522621c2-cade-4df9-b554-3060140af12f');\n",
              "          const dataTable =\n",
              "            await google.colab.kernel.invokeFunction('convertToInteractive',\n",
              "                                                     [key], {});\n",
              "          if (!dataTable) return;\n",
              "\n",
              "          const docLinkHtml = 'Like what you see? Visit the ' +\n",
              "            '<a target=\"_blank\" href=https://colab.research.google.com/notebooks/data_table.ipynb>data table notebook</a>'\n",
              "            + ' to learn more about interactive tables.';\n",
              "          element.innerHTML = '';\n",
              "          dataTable['output_type'] = 'display_data';\n",
              "          await google.colab.output.renderOutput(dataTable, element);\n",
              "          const docLink = document.createElement('div');\n",
              "          docLink.innerHTML = docLinkHtml;\n",
              "          element.appendChild(docLink);\n",
              "        }\n",
              "      </script>\n",
              "    </div>\n",
              "  </div>\n",
              "  "
            ]
          },
          "metadata": {},
          "execution_count": 3
        }
      ]
    },
    {
      "cell_type": "code",
      "source": [
        "df['MP'].value_counts()"
      ],
      "metadata": {
        "colab": {
          "base_uri": "https://localhost:8080/"
        },
        "id": "8NZ9PAgRHQC1",
        "outputId": "0b1719f6-24e2-4091-f45b-a671a891f001"
      },
      "execution_count": 4,
      "outputs": [
        {
          "output_type": "execute_result",
          "data": {
            "text/plain": [
              "38    20\n",
              "Name: MP, dtype: int64"
            ]
          },
          "metadata": {},
          "execution_count": 4
        }
      ]
    },
    {
      "cell_type": "markdown",
      "source": [
        "Total number of matches played by each squad is 38"
      ],
      "metadata": {
        "id": "Q2ZRCEF1HEhH"
      }
    },
    {
      "cell_type": "code",
      "source": [
        "df.shape"
      ],
      "metadata": {
        "colab": {
          "base_uri": "https://localhost:8080/"
        },
        "id": "i3_wbs7zGJ3x",
        "outputId": "62e026d5-5315-413f-e8d5-affc7c8f4a4c"
      },
      "execution_count": 5,
      "outputs": [
        {
          "output_type": "execute_result",
          "data": {
            "text/plain": [
              "(20, 19)"
            ]
          },
          "metadata": {},
          "execution_count": 5
        }
      ]
    },
    {
      "cell_type": "markdown",
      "source": [
        "# Dropping unwanted columns"
      ],
      "metadata": {
        "id": "UwhYo3eQGfDi"
      }
    },
    {
      "cell_type": "code",
      "source": [
        "df.drop(['Top Team Scorer','Goalkeeper','Notes','MP'],axis=1,inplace=True)"
      ],
      "metadata": {
        "id": "cCDq5gWVGcBb"
      },
      "execution_count": 6,
      "outputs": []
    },
    {
      "cell_type": "code",
      "source": [
        "df.head(3)"
      ],
      "metadata": {
        "colab": {
          "base_uri": "https://localhost:8080/",
          "height": 143
        },
        "id": "gYy_QN8sG4bv",
        "outputId": "acd47545-4588-48da-f928-c880a4c8a0ef"
      },
      "execution_count": 7,
      "outputs": [
        {
          "output_type": "execute_result",
          "data": {
            "text/plain": [
              "   Rk    Squad   W  D  L  GF  GA  GD  Pts  Pts/MP    xG   xGA   xGD  xGD/90  \\\n",
              "0   1    Milan  26  8  4  69  31  38   86    2.26  63.1  34.8  28.3    0.74   \n",
              "1   2    Inter  25  9  4  84  32  52   84    2.21  81.4  39.2  42.2    1.11   \n",
              "2   3   Napoli  24  7  7  74  31  43   79    2.08  59.4  31.9  27.6    0.73   \n",
              "\n",
              "   Attendance  \n",
              "0       44015  \n",
              "1       44473  \n",
              "2       28119  "
            ],
            "text/html": [
              "\n",
              "  <div id=\"df-c8b5d85a-26cb-40e9-a013-4cc82b6e7f25\">\n",
              "    <div class=\"colab-df-container\">\n",
              "      <div>\n",
              "<style scoped>\n",
              "    .dataframe tbody tr th:only-of-type {\n",
              "        vertical-align: middle;\n",
              "    }\n",
              "\n",
              "    .dataframe tbody tr th {\n",
              "        vertical-align: top;\n",
              "    }\n",
              "\n",
              "    .dataframe thead th {\n",
              "        text-align: right;\n",
              "    }\n",
              "</style>\n",
              "<table border=\"1\" class=\"dataframe\">\n",
              "  <thead>\n",
              "    <tr style=\"text-align: right;\">\n",
              "      <th></th>\n",
              "      <th>Rk</th>\n",
              "      <th>Squad</th>\n",
              "      <th>W</th>\n",
              "      <th>D</th>\n",
              "      <th>L</th>\n",
              "      <th>GF</th>\n",
              "      <th>GA</th>\n",
              "      <th>GD</th>\n",
              "      <th>Pts</th>\n",
              "      <th>Pts/MP</th>\n",
              "      <th>xG</th>\n",
              "      <th>xGA</th>\n",
              "      <th>xGD</th>\n",
              "      <th>xGD/90</th>\n",
              "      <th>Attendance</th>\n",
              "    </tr>\n",
              "  </thead>\n",
              "  <tbody>\n",
              "    <tr>\n",
              "      <th>0</th>\n",
              "      <td>1</td>\n",
              "      <td>Milan</td>\n",
              "      <td>26</td>\n",
              "      <td>8</td>\n",
              "      <td>4</td>\n",
              "      <td>69</td>\n",
              "      <td>31</td>\n",
              "      <td>38</td>\n",
              "      <td>86</td>\n",
              "      <td>2.26</td>\n",
              "      <td>63.1</td>\n",
              "      <td>34.8</td>\n",
              "      <td>28.3</td>\n",
              "      <td>0.74</td>\n",
              "      <td>44015</td>\n",
              "    </tr>\n",
              "    <tr>\n",
              "      <th>1</th>\n",
              "      <td>2</td>\n",
              "      <td>Inter</td>\n",
              "      <td>25</td>\n",
              "      <td>9</td>\n",
              "      <td>4</td>\n",
              "      <td>84</td>\n",
              "      <td>32</td>\n",
              "      <td>52</td>\n",
              "      <td>84</td>\n",
              "      <td>2.21</td>\n",
              "      <td>81.4</td>\n",
              "      <td>39.2</td>\n",
              "      <td>42.2</td>\n",
              "      <td>1.11</td>\n",
              "      <td>44473</td>\n",
              "    </tr>\n",
              "    <tr>\n",
              "      <th>2</th>\n",
              "      <td>3</td>\n",
              "      <td>Napoli</td>\n",
              "      <td>24</td>\n",
              "      <td>7</td>\n",
              "      <td>7</td>\n",
              "      <td>74</td>\n",
              "      <td>31</td>\n",
              "      <td>43</td>\n",
              "      <td>79</td>\n",
              "      <td>2.08</td>\n",
              "      <td>59.4</td>\n",
              "      <td>31.9</td>\n",
              "      <td>27.6</td>\n",
              "      <td>0.73</td>\n",
              "      <td>28119</td>\n",
              "    </tr>\n",
              "  </tbody>\n",
              "</table>\n",
              "</div>\n",
              "      <button class=\"colab-df-convert\" onclick=\"convertToInteractive('df-c8b5d85a-26cb-40e9-a013-4cc82b6e7f25')\"\n",
              "              title=\"Convert this dataframe to an interactive table.\"\n",
              "              style=\"display:none;\">\n",
              "        \n",
              "  <svg xmlns=\"http://www.w3.org/2000/svg\" height=\"24px\"viewBox=\"0 0 24 24\"\n",
              "       width=\"24px\">\n",
              "    <path d=\"M0 0h24v24H0V0z\" fill=\"none\"/>\n",
              "    <path d=\"M18.56 5.44l.94 2.06.94-2.06 2.06-.94-2.06-.94-.94-2.06-.94 2.06-2.06.94zm-11 1L8.5 8.5l.94-2.06 2.06-.94-2.06-.94L8.5 2.5l-.94 2.06-2.06.94zm10 10l.94 2.06.94-2.06 2.06-.94-2.06-.94-.94-2.06-.94 2.06-2.06.94z\"/><path d=\"M17.41 7.96l-1.37-1.37c-.4-.4-.92-.59-1.43-.59-.52 0-1.04.2-1.43.59L10.3 9.45l-7.72 7.72c-.78.78-.78 2.05 0 2.83L4 21.41c.39.39.9.59 1.41.59.51 0 1.02-.2 1.41-.59l7.78-7.78 2.81-2.81c.8-.78.8-2.07 0-2.86zM5.41 20L4 18.59l7.72-7.72 1.47 1.35L5.41 20z\"/>\n",
              "  </svg>\n",
              "      </button>\n",
              "      \n",
              "  <style>\n",
              "    .colab-df-container {\n",
              "      display:flex;\n",
              "      flex-wrap:wrap;\n",
              "      gap: 12px;\n",
              "    }\n",
              "\n",
              "    .colab-df-convert {\n",
              "      background-color: #E8F0FE;\n",
              "      border: none;\n",
              "      border-radius: 50%;\n",
              "      cursor: pointer;\n",
              "      display: none;\n",
              "      fill: #1967D2;\n",
              "      height: 32px;\n",
              "      padding: 0 0 0 0;\n",
              "      width: 32px;\n",
              "    }\n",
              "\n",
              "    .colab-df-convert:hover {\n",
              "      background-color: #E2EBFA;\n",
              "      box-shadow: 0px 1px 2px rgba(60, 64, 67, 0.3), 0px 1px 3px 1px rgba(60, 64, 67, 0.15);\n",
              "      fill: #174EA6;\n",
              "    }\n",
              "\n",
              "    [theme=dark] .colab-df-convert {\n",
              "      background-color: #3B4455;\n",
              "      fill: #D2E3FC;\n",
              "    }\n",
              "\n",
              "    [theme=dark] .colab-df-convert:hover {\n",
              "      background-color: #434B5C;\n",
              "      box-shadow: 0px 1px 3px 1px rgba(0, 0, 0, 0.15);\n",
              "      filter: drop-shadow(0px 1px 2px rgba(0, 0, 0, 0.3));\n",
              "      fill: #FFFFFF;\n",
              "    }\n",
              "  </style>\n",
              "\n",
              "      <script>\n",
              "        const buttonEl =\n",
              "          document.querySelector('#df-c8b5d85a-26cb-40e9-a013-4cc82b6e7f25 button.colab-df-convert');\n",
              "        buttonEl.style.display =\n",
              "          google.colab.kernel.accessAllowed ? 'block' : 'none';\n",
              "\n",
              "        async function convertToInteractive(key) {\n",
              "          const element = document.querySelector('#df-c8b5d85a-26cb-40e9-a013-4cc82b6e7f25');\n",
              "          const dataTable =\n",
              "            await google.colab.kernel.invokeFunction('convertToInteractive',\n",
              "                                                     [key], {});\n",
              "          if (!dataTable) return;\n",
              "\n",
              "          const docLinkHtml = 'Like what you see? Visit the ' +\n",
              "            '<a target=\"_blank\" href=https://colab.research.google.com/notebooks/data_table.ipynb>data table notebook</a>'\n",
              "            + ' to learn more about interactive tables.';\n",
              "          element.innerHTML = '';\n",
              "          dataTable['output_type'] = 'display_data';\n",
              "          await google.colab.output.renderOutput(dataTable, element);\n",
              "          const docLink = document.createElement('div');\n",
              "          docLink.innerHTML = docLinkHtml;\n",
              "          element.appendChild(docLink);\n",
              "        }\n",
              "      </script>\n",
              "    </div>\n",
              "  </div>\n",
              "  "
            ]
          },
          "metadata": {},
          "execution_count": 7
        }
      ]
    },
    {
      "cell_type": "markdown",
      "source": [
        "# Data cleaning"
      ],
      "metadata": {
        "id": "b9yVkJpyHjLh"
      }
    },
    {
      "cell_type": "code",
      "source": [
        "df.isnull().sum() # no null values"
      ],
      "metadata": {
        "colab": {
          "base_uri": "https://localhost:8080/"
        },
        "id": "1hqrWttpHA0C",
        "outputId": "de1ca23a-5e07-4180-8499-496caa1f4a43"
      },
      "execution_count": 8,
      "outputs": [
        {
          "output_type": "execute_result",
          "data": {
            "text/plain": [
              "Rk            0\n",
              "Squad         0\n",
              "W             0\n",
              "D             0\n",
              "L             0\n",
              "GF            0\n",
              "GA            0\n",
              "GD            0\n",
              "Pts           0\n",
              "Pts/MP        0\n",
              "xG            0\n",
              "xGA           0\n",
              "xGD           0\n",
              "xGD/90        0\n",
              "Attendance    0\n",
              "dtype: int64"
            ]
          },
          "metadata": {},
          "execution_count": 8
        }
      ]
    },
    {
      "cell_type": "code",
      "source": [
        "df.duplicated().sum() # no duplicates"
      ],
      "metadata": {
        "colab": {
          "base_uri": "https://localhost:8080/"
        },
        "id": "J0mTgwhbHo9f",
        "outputId": "253981a3-2759-4116-ea3f-b4002e9e9826"
      },
      "execution_count": 9,
      "outputs": [
        {
          "output_type": "execute_result",
          "data": {
            "text/plain": [
              "0"
            ]
          },
          "metadata": {},
          "execution_count": 9
        }
      ]
    },
    {
      "cell_type": "code",
      "source": [
        "df.dtypes # data is strctured"
      ],
      "metadata": {
        "colab": {
          "base_uri": "https://localhost:8080/"
        },
        "id": "lkLpmqwZHrt8",
        "outputId": "e34fad3e-a72e-4225-accc-f7bcab4bb27c"
      },
      "execution_count": 10,
      "outputs": [
        {
          "output_type": "execute_result",
          "data": {
            "text/plain": [
              "Rk              int64\n",
              "Squad          object\n",
              "W               int64\n",
              "D               int64\n",
              "L               int64\n",
              "GF              int64\n",
              "GA              int64\n",
              "GD              int64\n",
              "Pts             int64\n",
              "Pts/MP        float64\n",
              "xG            float64\n",
              "xGA           float64\n",
              "xGD           float64\n",
              "xGD/90        float64\n",
              "Attendance      int64\n",
              "dtype: object"
            ]
          },
          "metadata": {},
          "execution_count": 10
        }
      ]
    },
    {
      "cell_type": "markdown",
      "source": [
        "# Visualizing"
      ],
      "metadata": {
        "id": "CmXmc1SF7BU0"
      }
    },
    {
      "cell_type": "code",
      "source": [
        "plt.figure(figsize=(10,8))\n",
        "sns.scatterplot(data=df,x='W',y='Rk',hue='Squad')\n",
        "plt.title(\"Tota wins per each squad\",color='g')\n",
        "plt.xlabel(\"Tota wins\",color='m')\n",
        "plt.ylabel(\"Squad number\",color='m')\n",
        "plt.show()"
      ],
      "metadata": {
        "colab": {
          "base_uri": "https://localhost:8080/",
          "height": 513
        },
        "id": "wXX6974mH6S4",
        "outputId": "57b05a03-18f7-4b4e-e3d7-bef9dbf3a211"
      },
      "execution_count": 11,
      "outputs": [
        {
          "output_type": "display_data",
          "data": {
            "text/plain": [
              "<Figure size 720x576 with 1 Axes>"
            ],
            "image/png": "[encoded data removed]"
          },
          "metadata": {
            "needs_background": "light"
          }
        }
      ]
    },
    {
      "cell_type": "markdown",
      "source": [
        "As the number of wins decreases, rank increases, which is in line with our general knowledge"
      ],
      "metadata": {
        "id": "rRFHMK7zKVvQ"
      }
    },
    {
      "cell_type": "markdown",
      "source": [
        "# EDA"
      ],
      "metadata": {
        "id": "aDNB6iTJJU_i"
      }
    },
    {
      "cell_type": "markdown",
      "source": [
        "Finding correlations with heat map"
      ],
      "metadata": {
        "id": "nSIrZ39DJX1j"
      }
    },
    {
      "cell_type": "code",
      "source": [
        "plt.figure(figsize=(12,7))\n",
        "sns.heatmap(df.corr(), annot=True)"
      ],
      "metadata": {
        "colab": {
          "base_uri": "https://localhost:8080/",
          "height": 497
        },
        "id": "_JlHiLZYIXuk",
        "outputId": "5d463913-0532-470d-f065-c5d7504f9659"
      },
      "execution_count": 12,
      "outputs": [
        {
          "output_type": "execute_result",
          "data": {
            "text/plain": [
              "<matplotlib.axes._subplots.AxesSubplot at 0x7efe7c180a10>"
            ]
          },
          "metadata": {},
          "execution_count": 12
        },
        {
          "output_type": "display_data",
          "data": {
            "text/plain": [
              "<Figure size 864x504 with 2 Axes>"
            ],
            "image/png": "[encoded data removed]"
          },
          "metadata": {
            "needs_background": "light"
          }
        }
      ]
    },
    {
      "cell_type": "markdown",
      "source": [
        "From heat map, we can see that rank has linear relation ship with all the other features, so we can go ahead a build linear regg model to this data. No transformation of features is required(-0.2<corr<0.2 ==> No linear relationship)"
      ],
      "metadata": {
        "id": "AqiXIJC_J-c0"
      }
    },
    {
      "cell_type": "markdown",
      "source": [
        "# Data preparation"
      ],
      "metadata": {
        "id": "gZG95K8BLEXe"
      }
    },
    {
      "cell_type": "code",
      "source": [
        "df.columns"
      ],
      "metadata": {
        "colab": {
          "base_uri": "https://localhost:8080/"
        },
        "id": "pBw4e6xTLHJR",
        "outputId": "cbaa57ec-351d-497e-b84c-57edcd13cb42"
      },
      "execution_count": 13,
      "outputs": [
        {
          "output_type": "execute_result",
          "data": {
            "text/plain": [
              "Index(['Rk', 'Squad', 'W', 'D', 'L', 'GF', 'GA', 'GD', 'Pts', 'Pts/MP', 'xG',\n",
              "       'xGA', 'xGD', 'xGD/90', 'Attendance'],\n",
              "      dtype='object')"
            ]
          },
          "metadata": {},
          "execution_count": 13
        }
      ]
    },
    {
      "cell_type": "code",
      "source": [
        "input_cols = list(df.columns[2:])\n",
        "target_col ='Rk'"
      ],
      "metadata": {
        "id": "UVVFRvuBLNXn"
      },
      "execution_count": 14,
      "outputs": []
    },
    {
      "cell_type": "code",
      "source": [
        "print(\"Feature columns are:\",input_cols)\n",
        "print(\"Target column is:\",target_col)"
      ],
      "metadata": {
        "colab": {
          "base_uri": "https://localhost:8080/"
        },
        "id": "UJpT9DBnLuUf",
        "outputId": "b5f38656-dcd5-42d0-e5f5-e1116c077bf9"
      },
      "execution_count": 15,
      "outputs": [
        {
          "output_type": "stream",
          "name": "stdout",
          "text": [
            "Feature columns are: ['W', 'D', 'L', 'GF', 'GA', 'GD', 'Pts', 'Pts/MP', 'xG', 'xGA', 'xGD', 'xGD/90', 'Attendance']\n",
            "Target column is: Rk\n"
          ]
        }
      ]
    },
    {
      "cell_type": "code",
      "source": [
        "X = df[input_cols]\n",
        "y = df[target_col]"
      ],
      "metadata": {
        "id": "kWzESUFaMCL9"
      },
      "execution_count": 16,
      "outputs": []
    },
    {
      "cell_type": "code",
      "source": [
        "#Splitting\n",
        "from sklearn.model_selection import train_test_split\n",
        "X_train, X_test, y_train, y_test = train_test_split(X,y,test_size=0.2,random_state=2)"
      ],
      "metadata": {
        "id": "ZHAE5e6zJeKh"
      },
      "execution_count": 17,
      "outputs": []
    },
    {
      "cell_type": "code",
      "source": [
        "y_test"
      ],
      "metadata": {
        "colab": {
          "base_uri": "https://localhost:8080/"
        },
        "id": "ODXoS2sgMu_M",
        "outputId": "9124fe53-6cea-414a-d716-5d8b75c7e845"
      },
      "execution_count": 18,
      "outputs": [
        {
          "output_type": "execute_result",
          "data": {
            "text/plain": [
              "12    13\n",
              "4      5\n",
              "18    19\n",
              "0      1\n",
              "Name: Rk, dtype: int64"
            ]
          },
          "metadata": {},
          "execution_count": 18
        }
      ]
    },
    {
      "cell_type": "code",
      "source": [
        "X_train.shape, X_test.shape"
      ],
      "metadata": {
        "colab": {
          "base_uri": "https://localhost:8080/"
        },
        "id": "3W5TBzNJNAop",
        "outputId": "c04e3003-1f85-4564-bf8b-43aae41c9078"
      },
      "execution_count": 19,
      "outputs": [
        {
          "output_type": "execute_result",
          "data": {
            "text/plain": [
              "((16, 13), (4, 13))"
            ]
          },
          "metadata": {},
          "execution_count": 19
        }
      ]
    },
    {
      "cell_type": "markdown",
      "source": [
        "# Scaling/normalising the data"
      ],
      "metadata": {
        "id": "E0MSKo5rNK23"
      }
    },
    {
      "cell_type": "code",
      "source": [
        "from sklearn.preprocessing import StandardScaler # importing the required function\n",
        "scaler = StandardScaler() #initialise\n",
        "scaler.fit(X_train) # find the values of mu and sigma\n",
        "X_train_scaled = scaler.transform(X_train)\n",
        "X_test_scaled = scaler.transform(X_test)  "
      ],
      "metadata": {
        "id": "_SgxQv3BNCcq"
      },
      "execution_count": 20,
      "outputs": []
    },
    {
      "cell_type": "code",
      "source": [
        "scaler.var_"
      ],
      "metadata": {
        "colab": {
          "base_uri": "https://localhost:8080/"
        },
        "id": "OjrqiBSsNd_K",
        "outputId": "5fa6503a-3ffb-42c2-a8f8-2e9890f111cd"
      },
      "execution_count": 21,
      "outputs": [
        {
          "output_type": "execute_result",
          "data": {
            "text/plain": [
              "array([3.36093750e+01, 5.62500000e+00, 3.13593750e+01, 2.06250000e+02,\n",
              "       2.13589844e+02, 7.26277344e+02, 2.84484375e+02, 1.96210938e-01,\n",
              "       1.47437773e+02, 1.67257344e+02, 5.33306094e+02, 3.69230859e-01,\n",
              "       1.36827333e+08])"
            ]
          },
          "metadata": {},
          "execution_count": 21
        }
      ]
    },
    {
      "cell_type": "code",
      "source": [
        "X_test_scaled"
      ],
      "metadata": {
        "colab": {
          "base_uri": "https://localhost:8080/"
        },
        "id": "MBoBb_k_NeZl",
        "outputId": "04596926-d03a-4062-fdd9-7a9fe2d0d9ff"
      },
      "execution_count": 22,
      "outputs": [
        {
          "output_type": "execute_result",
          "data": {
            "text/plain": [
              "array([[-0.32342311,  0.21081851,  0.24553816, -0.73112616, -0.02138256,\n",
              "        -0.37802139, -0.30385379, -0.30759191, -0.62436196,  0.13821445,\n",
              "        -0.4054185 , -0.41245388, -0.21551408],\n",
              "       [ 0.71153085,  0.21081851, -0.82590109,  1.5666989 ,  0.18389003,\n",
              "         0.73517043,  0.76334001,  0.75345907,  0.33920407, -0.31798989,\n",
              "         0.36103356,  0.36102572,  0.56286924],\n",
              "       [-1.70336173,  2.74064064,  0.60268458, -1.91485422,  0.32073842,\n",
              "        -1.19436206, -1.3710476 , -1.36864289, -1.14320521, -0.06282475,\n",
              "        -0.56563729, -0.560567  , -0.37213113],\n",
              "       [ 2.09146947, -0.63245553, -1.89734034,  1.0096504 , -1.66356326,\n",
              "         1.44019192,  2.067688  ,  2.06284114,  0.94040338, -1.36184728,\n",
              "         1.25739274,  1.2497044 ,  2.33695058]])"
            ]
          },
          "metadata": {},
          "execution_count": 22
        }
      ]
    },
    {
      "cell_type": "markdown",
      "source": [
        "# Modelling"
      ],
      "metadata": {
        "id": "B-KBSiatU_fm"
      }
    },
    {
      "cell_type": "code",
      "source": [
        "from sklearn.linear_model import LinearRegression\n",
        "regressor = LinearRegression()\n",
        "regressor.fit(X_train_scaled, y_train)"
      ],
      "metadata": {
        "colab": {
          "base_uri": "https://localhost:8080/"
        },
        "id": "xaU5zJjqNic0",
        "outputId": "676321db-7e64-42b0-f1b3-5a070cece1c9"
      },
      "execution_count": 23,
      "outputs": [
        {
          "output_type": "execute_result",
          "data": {
            "text/plain": [
              "LinearRegression()"
            ]
          },
          "metadata": {},
          "execution_count": 23
        }
      ]
    },
    {
      "cell_type": "code",
      "source": [
        "regressor.intercept_ # c"
      ],
      "metadata": {
        "colab": {
          "base_uri": "https://localhost:8080/"
        },
        "id": "L4r3JvG90zgR",
        "outputId": "056548be-c994-43ef-a715-7d4c19c805a1"
      },
      "execution_count": 24,
      "outputs": [
        {
          "output_type": "execute_result",
          "data": {
            "text/plain": [
              "10.75000000000002"
            ]
          },
          "metadata": {},
          "execution_count": 24
        }
      ]
    },
    {
      "cell_type": "code",
      "source": [
        "coeff_df = pd.DataFrame(regressor.coef_,input_cols, columns=['Coefficient'])\n",
        "coeff_df"
      ],
      "metadata": {
        "colab": {
          "base_uri": "https://localhost:8080/",
          "height": 457
        },
        "id": "0v3TIef31Uog",
        "outputId": "9ae94ae6-26f9-4a43-b147-9f1f8f580123"
      },
      "execution_count": 25,
      "outputs": [
        {
          "output_type": "execute_result",
          "data": {
            "text/plain": [
              "            Coefficient\n",
              "W              1.067413\n",
              "D             -0.101787\n",
              "L             -1.061933\n",
              "GF            -0.569133\n",
              "GA            -1.951597\n",
              "GD             0.755058\n",
              "Pts            1.086351\n",
              "Pts/MP        -9.080554\n",
              "xG           -31.586690\n",
              "xGA           36.069620\n",
              "xGD          -48.713212\n",
              "xGD/90       109.172568\n",
              "Attendance     0.366876"
            ],
            "text/html": [
              "\n",
              "  <div id=\"df-a2720b47-5042-4def-a4c3-913e12cac7de\">\n",
              "    <div class=\"colab-df-container\">\n",
              "      <div>\n",
              "<style scoped>\n",
              "    .dataframe tbody tr th:only-of-type {\n",
              "        vertical-align: middle;\n",
              "    }\n",
              "\n",
              "    .dataframe tbody tr th {\n",
              "        vertical-align: top;\n",
              "    }\n",
              "\n",
              "    .dataframe thead th {\n",
              "        text-align: right;\n",
              "    }\n",
              "</style>\n",
              "<table border=\"1\" class=\"dataframe\">\n",
              "  <thead>\n",
              "    <tr style=\"text-align: right;\">\n",
              "      <th></th>\n",
              "      <th>Coefficient</th>\n",
              "    </tr>\n",
              "  </thead>\n",
              "  <tbody>\n",
              "    <tr>\n",
              "      <th>W</th>\n",
              "      <td>1.067413</td>\n",
              "    </tr>\n",
              "    <tr>\n",
              "      <th>D</th>\n",
              "      <td>-0.101787</td>\n",
              "    </tr>\n",
              "    <tr>\n",
              "      <th>L</th>\n",
              "      <td>-1.061933</td>\n",
              "    </tr>\n",
              "    <tr>\n",
              "      <th>GF</th>\n",
              "      <td>-0.569133</td>\n",
              "    </tr>\n",
              "    <tr>\n",
              "      <th>GA</th>\n",
              "      <td>-1.951597</td>\n",
              "    </tr>\n",
              "    <tr>\n",
              "      <th>GD</th>\n",
              "      <td>0.755058</td>\n",
              "    </tr>\n",
              "    <tr>\n",
              "      <th>Pts</th>\n",
              "      <td>1.086351</td>\n",
              "    </tr>\n",
              "    <tr>\n",
              "      <th>Pts/MP</th>\n",
              "      <td>-9.080554</td>\n",
              "    </tr>\n",
              "    <tr>\n",
              "      <th>xG</th>\n",
              "      <td>-31.586690</td>\n",
              "    </tr>\n",
              "    <tr>\n",
              "      <th>xGA</th>\n",
              "      <td>36.069620</td>\n",
              "    </tr>\n",
              "    <tr>\n",
              "      <th>xGD</th>\n",
              "      <td>-48.713212</td>\n",
              "    </tr>\n",
              "    <tr>\n",
              "      <th>xGD/90</th>\n",
              "      <td>109.172568</td>\n",
              "    </tr>\n",
              "    <tr>\n",
              "      <th>Attendance</th>\n",
              "      <td>0.366876</td>\n",
              "    </tr>\n",
              "  </tbody>\n",
              "</table>\n",
              "</div>\n",
              "      <button class=\"colab-df-convert\" onclick=\"convertToInteractive('df-a2720b47-5042-4def-a4c3-913e12cac7de')\"\n",
              "              title=\"Convert this dataframe to an interactive table.\"\n",
              "              style=\"display:none;\">\n",
              "        \n",
              "  <svg xmlns=\"http://www.w3.org/2000/svg\" height=\"24px\"viewBox=\"0 0 24 24\"\n",
              "       width=\"24px\">\n",
              "    <path d=\"M0 0h24v24H0V0z\" fill=\"none\"/>\n",
              "    <path d=\"M18.56 5.44l.94 2.06.94-2.06 2.06-.94-2.06-.94-.94-2.06-.94 2.06-2.06.94zm-11 1L8.5 8.5l.94-2.06 2.06-.94-2.06-.94L8.5 2.5l-.94 2.06-2.06.94zm10 10l.94 2.06.94-2.06 2.06-.94-2.06-.94-.94-2.06-.94 2.06-2.06.94z\"/><path d=\"M17.41 7.96l-1.37-1.37c-.4-.4-.92-.59-1.43-.59-.52 0-1.04.2-1.43.59L10.3 9.45l-7.72 7.72c-.78.78-.78 2.05 0 2.83L4 21.41c.39.39.9.59 1.41.59.51 0 1.02-.2 1.41-.59l7.78-7.78 2.81-2.81c.8-.78.8-2.07 0-2.86zM5.41 20L4 18.59l7.72-7.72 1.47 1.35L5.41 20z\"/>\n",
              "  </svg>\n",
              "      </button>\n",
              "      \n",
              "  <style>\n",
              "    .colab-df-container {\n",
              "      display:flex;\n",
              "      flex-wrap:wrap;\n",
              "      gap: 12px;\n",
              "    }\n",
              "\n",
              "    .colab-df-convert {\n",
              "      background-color: #E8F0FE;\n",
              "      border: none;\n",
              "      border-radius: 50%;\n",
              "      cursor: pointer;\n",
              "      display: none;\n",
              "      fill: #1967D2;\n",
              "      height: 32px;\n",
              "      padding: 0 0 0 0;\n",
              "      width: 32px;\n",
              "    }\n",
              "\n",
              "    .colab-df-convert:hover {\n",
              "      background-color: #E2EBFA;\n",
              "      box-shadow: 0px 1px 2px rgba(60, 64, 67, 0.3), 0px 1px 3px 1px rgba(60, 64, 67, 0.15);\n",
              "      fill: #174EA6;\n",
              "    }\n",
              "\n",
              "    [theme=dark] .colab-df-convert {\n",
              "      background-color: #3B4455;\n",
              "      fill: #D2E3FC;\n",
              "    }\n",
              "\n",
              "    [theme=dark] .colab-df-convert:hover {\n",
              "      background-color: #434B5C;\n",
              "      box-shadow: 0px 1px 3px 1px rgba(0, 0, 0, 0.15);\n",
              "      filter: drop-shadow(0px 1px 2px rgba(0, 0, 0, 0.3));\n",
              "      fill: #FFFFFF;\n",
              "    }\n",
              "  </style>\n",
              "\n",
              "      <script>\n",
              "        const buttonEl =\n",
              "          document.querySelector('#df-a2720b47-5042-4def-a4c3-913e12cac7de button.colab-df-convert');\n",
              "        buttonEl.style.display =\n",
              "          google.colab.kernel.accessAllowed ? 'block' : 'none';\n",
              "\n",
              "        async function convertToInteractive(key) {\n",
              "          const element = document.querySelector('#df-a2720b47-5042-4def-a4c3-913e12cac7de');\n",
              "          const dataTable =\n",
              "            await google.colab.kernel.invokeFunction('convertToInteractive',\n",
              "                                                     [key], {});\n",
              "          if (!dataTable) return;\n",
              "\n",
              "          const docLinkHtml = 'Like what you see? Visit the ' +\n",
              "            '<a target=\"_blank\" href=https://colab.research.google.com/notebooks/data_table.ipynb>data table notebook</a>'\n",
              "            + ' to learn more about interactive tables.';\n",
              "          element.innerHTML = '';\n",
              "          dataTable['output_type'] = 'display_data';\n",
              "          await google.colab.output.renderOutput(dataTable, element);\n",
              "          const docLink = document.createElement('div');\n",
              "          docLink.innerHTML = docLinkHtml;\n",
              "          element.appendChild(docLink);\n",
              "        }\n",
              "      </script>\n",
              "    </div>\n",
              "  </div>\n",
              "  "
            ]
          },
          "metadata": {},
          "execution_count": 25
        }
      ]
    },
    {
      "cell_type": "markdown",
      "source": [
        "**Feature importance**                                                        \n",
        "The feature which has higest modulus coefficient is the best feature. Here xGD/90 plays major role in predicting final rank of squad than other features."
      ],
      "metadata": {
        "id": "HZgFccSg7yq5"
      }
    },
    {
      "cell_type": "code",
      "source": [
        "y_pred = regressor.predict(X_test_scaled)"
      ],
      "metadata": {
        "id": "MSZcofyn1sdx"
      },
      "execution_count": 26,
      "outputs": []
    },
    {
      "cell_type": "code",
      "source": [
        "df = pd.DataFrame({'Actual': y_test, 'Predicted': y_pred})\n",
        "df"
      ],
      "metadata": {
        "colab": {
          "base_uri": "https://localhost:8080/",
          "height": 175
        },
        "id": "qsX8b48k1f2m",
        "outputId": "c5000473-b185-4bc6-a40e-9823025b407b"
      },
      "execution_count": 27,
      "outputs": [
        {
          "output_type": "execute_result",
          "data": {
            "text/plain": [
              "    Actual  Predicted\n",
              "12      13  12.106385\n",
              "4        5   5.506471\n",
              "18      19  18.576424\n",
              "0        1  -0.450786"
            ],
            "text/html": [
              "\n",
              "  <div id=\"df-7c59fe96-439a-41f6-9401-8a3fdb52e7a2\">\n",
              "    <div class=\"colab-df-container\">\n",
              "      <div>\n",
              "<style scoped>\n",
              "    .dataframe tbody tr th:only-of-type {\n",
              "        vertical-align: middle;\n",
              "    }\n",
              "\n",
              "    .dataframe tbody tr th {\n",
              "        vertical-align: top;\n",
              "    }\n",
              "\n",
              "    .dataframe thead th {\n",
              "        text-align: right;\n",
              "    }\n",
              "</style>\n",
              "<table border=\"1\" class=\"dataframe\">\n",
              "  <thead>\n",
              "    <tr style=\"text-align: right;\">\n",
              "      <th></th>\n",
              "      <th>Actual</th>\n",
              "      <th>Predicted</th>\n",
              "    </tr>\n",
              "  </thead>\n",
              "  <tbody>\n",
              "    <tr>\n",
              "      <th>12</th>\n",
              "      <td>13</td>\n",
              "      <td>12.106385</td>\n",
              "    </tr>\n",
              "    <tr>\n",
              "      <th>4</th>\n",
              "      <td>5</td>\n",
              "      <td>5.506471</td>\n",
              "    </tr>\n",
              "    <tr>\n",
              "      <th>18</th>\n",
              "      <td>19</td>\n",
              "      <td>18.576424</td>\n",
              "    </tr>\n",
              "    <tr>\n",
              "      <th>0</th>\n",
              "      <td>1</td>\n",
              "      <td>-0.450786</td>\n",
              "    </tr>\n",
              "  </tbody>\n",
              "</table>\n",
              "</div>\n",
              "      <button class=\"colab-df-convert\" onclick=\"convertToInteractive('df-7c59fe96-439a-41f6-9401-8a3fdb52e7a2')\"\n",
              "              title=\"Convert this dataframe to an interactive table.\"\n",
              "              style=\"display:none;\">\n",
              "        \n",
              "  <svg xmlns=\"http://www.w3.org/2000/svg\" height=\"24px\"viewBox=\"0 0 24 24\"\n",
              "       width=\"24px\">\n",
              "    <path d=\"M0 0h24v24H0V0z\" fill=\"none\"/>\n",
              "    <path d=\"M18.56 5.44l.94 2.06.94-2.06 2.06-.94-2.06-.94-.94-2.06-.94 2.06-2.06.94zm-11 1L8.5 8.5l.94-2.06 2.06-.94-2.06-.94L8.5 2.5l-.94 2.06-2.06.94zm10 10l.94 2.06.94-2.06 2.06-.94-2.06-.94-.94-2.06-.94 2.06-2.06.94z\"/><path d=\"M17.41 7.96l-1.37-1.37c-.4-.4-.92-.59-1.43-.59-.52 0-1.04.2-1.43.59L10.3 9.45l-7.72 7.72c-.78.78-.78 2.05 0 2.83L4 21.41c.39.39.9.59 1.41.59.51 0 1.02-.2 1.41-.59l7.78-7.78 2.81-2.81c.8-.78.8-2.07 0-2.86zM5.41 20L4 18.59l7.72-7.72 1.47 1.35L5.41 20z\"/>\n",
              "  </svg>\n",
              "      </button>\n",
              "      \n",
              "  <style>\n",
              "    .colab-df-container {\n",
              "      display:flex;\n",
              "      flex-wrap:wrap;\n",
              "      gap: 12px;\n",
              "    }\n",
              "\n",
              "    .colab-df-convert {\n",
              "      background-color: #E8F0FE;\n",
              "      border: none;\n",
              "      border-radius: 50%;\n",
              "      cursor: pointer;\n",
              "      display: none;\n",
              "      fill: #1967D2;\n",
              "      height: 32px;\n",
              "      padding: 0 0 0 0;\n",
              "      width: 32px;\n",
              "    }\n",
              "\n",
              "    .colab-df-convert:hover {\n",
              "      background-color: #E2EBFA;\n",
              "      box-shadow: 0px 1px 2px rgba(60, 64, 67, 0.3), 0px 1px 3px 1px rgba(60, 64, 67, 0.15);\n",
              "      fill: #174EA6;\n",
              "    }\n",
              "\n",
              "    [theme=dark] .colab-df-convert {\n",
              "      background-color: #3B4455;\n",
              "      fill: #D2E3FC;\n",
              "    }\n",
              "\n",
              "    [theme=dark] .colab-df-convert:hover {\n",
              "      background-color: #434B5C;\n",
              "      box-shadow: 0px 1px 3px 1px rgba(0, 0, 0, 0.15);\n",
              "      filter: drop-shadow(0px 1px 2px rgba(0, 0, 0, 0.3));\n",
              "      fill: #FFFFFF;\n",
              "    }\n",
              "  </style>\n",
              "\n",
              "      <script>\n",
              "        const buttonEl =\n",
              "          document.querySelector('#df-7c59fe96-439a-41f6-9401-8a3fdb52e7a2 button.colab-df-convert');\n",
              "        buttonEl.style.display =\n",
              "          google.colab.kernel.accessAllowed ? 'block' : 'none';\n",
              "\n",
              "        async function convertToInteractive(key) {\n",
              "          const element = document.querySelector('#df-7c59fe96-439a-41f6-9401-8a3fdb52e7a2');\n",
              "          const dataTable =\n",
              "            await google.colab.kernel.invokeFunction('convertToInteractive',\n",
              "                                                     [key], {});\n",
              "          if (!dataTable) return;\n",
              "\n",
              "          const docLinkHtml = 'Like what you see? Visit the ' +\n",
              "            '<a target=\"_blank\" href=https://colab.research.google.com/notebooks/data_table.ipynb>data table notebook</a>'\n",
              "            + ' to learn more about interactive tables.';\n",
              "          element.innerHTML = '';\n",
              "          dataTable['output_type'] = 'display_data';\n",
              "          await google.colab.output.renderOutput(dataTable, element);\n",
              "          const docLink = document.createElement('div');\n",
              "          docLink.innerHTML = docLinkHtml;\n",
              "          element.appendChild(docLink);\n",
              "        }\n",
              "      </script>\n",
              "    </div>\n",
              "  </div>\n",
              "  "
            ]
          },
          "metadata": {},
          "execution_count": 27
        }
      ]
    },
    {
      "cell_type": "markdown",
      "source": [
        "# Evaluation metric"
      ],
      "metadata": {
        "id": "LtGi3Odx10Py"
      }
    },
    {
      "cell_type": "code",
      "source": [
        "from sklearn import metrics\n",
        "print('R2- SCORE:', metrics.r2_score(y_test,y_pred))"
      ],
      "metadata": {
        "colab": {
          "base_uri": "https://localhost:8080/"
        },
        "id": "vdW_UqvY14wh",
        "outputId": "4ee11ee7-8fd1-4fca-a42d-2fe481f66718"
      },
      "execution_count": 29,
      "outputs": [
        {
          "output_type": "stream",
          "name": "stdout",
          "text": [
            "R2- SCORE: 0.9828756042574903\n"
          ]
        }
      ]
    },
    {
      "cell_type": "markdown",
      "source": [
        "This is very good model"
      ],
      "metadata": {
        "id": "a6cDhXNp3GTp"
      }
    },
    {
      "cell_type": "markdown",
      "source": [
        "# Predicting\n",
        "\n",
        "Let’s see if it can properly guess, at what position Roma finished its 2019/2020 season."
      ],
      "metadata": {
        "id": "9kc_BjDQ2x4h"
      }
    },
    {
      "cell_type": "code",
      "source": [
        "regressor.predict(scaler.transform([[21,7,10,77,51,26,70,1.84,72.6,48.3,24.3,0.64,26956]]))"
      ],
      "metadata": {
        "colab": {
          "base_uri": "https://localhost:8080/"
        },
        "id": "83QJdAnd4J0s",
        "outputId": "8faaccd0-8967-4796-e202-aa4588fad0e1"
      },
      "execution_count": 31,
      "outputs": [
        {
          "output_type": "stream",
          "name": "stderr",
          "text": [
            "/usr/local/lib/python3.7/dist-packages/sklearn/base.py:451: UserWarning: X does not have valid feature names, but StandardScaler was fitted with feature names\n",
            "  \"X does not have valid feature names, but\"\n"
          ]
        },
        {
          "output_type": "execute_result",
          "data": {
            "text/plain": [
              "array([4.66383452])"
            ]
          },
          "metadata": {},
          "execution_count": 31
        }
      ]
    },
    {
      "cell_type": "markdown",
      "source": [
        "Quite good!! Roma's final position was 5 in 2019/2020 season."
      ],
      "metadata": {
        "id": "NGCXiHq35uni"
      }
    }
  ]
}